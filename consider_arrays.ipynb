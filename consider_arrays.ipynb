{
 "cells": [
  {
   "cell_type": "markdown",
   "metadata": {},
   "source": [
    "Children problem"
   ]
  },
  {
   "cell_type": "code",
   "execution_count": 1,
   "metadata": {},
   "outputs": [],
   "source": [
    "import numpy as np"
   ]
  },
  {
   "cell_type": "code",
   "execution_count": 2,
   "metadata": {},
   "outputs": [],
   "source": [
    "children = np.random.uniform(size=(10000, 4))"
   ]
  },
  {
   "cell_type": "code",
   "execution_count": 3,
   "metadata": {},
   "outputs": [],
   "source": [
    "girls = children < 0.487"
   ]
  },
  {
   "cell_type": "code",
   "execution_count": 4,
   "metadata": {},
   "outputs": [],
   "source": [
    "girl_count = np.sum(girls, axis=1)"
   ]
  },
  {
   "cell_type": "code",
   "execution_count": 5,
   "metadata": {},
   "outputs": [
    {
     "data": {
      "text/plain": [
       "0.2258"
      ]
     },
     "execution_count": 5,
     "metadata": {},
     "output_type": "execute_result"
    }
   ],
   "source": [
    "sum(girl_count == 3) / 10000"
   ]
  },
  {
   "cell_type": "markdown",
   "metadata": {},
   "source": [
    "Brexit problem"
   ]
  },
  {
   "cell_type": "code",
   "execution_count": 6,
   "metadata": {},
   "outputs": [],
   "source": [
    "voters = np.random.uniform(size=(10000, 1315))"
   ]
  },
  {
   "cell_type": "code",
   "execution_count": 7,
   "metadata": {},
   "outputs": [],
   "source": [
    "leavers = voters < 0.518"
   ]
  },
  {
   "cell_type": "code",
   "execution_count": 8,
   "metadata": {},
   "outputs": [],
   "source": [
    "leaver_count = np.sum(leavers, axis=1)"
   ]
  },
  {
   "cell_type": "code",
   "execution_count": 9,
   "metadata": {},
   "outputs": [],
   "source": [
    "leaver_proportions = leaver_count / 1315"
   ]
  },
  {
   "cell_type": "code",
   "execution_count": 10,
   "metadata": {},
   "outputs": [],
   "source": [
    "import matplotlib.pyplot as plt"
   ]
  },
  {
   "cell_type": "code",
   "execution_count": 11,
   "metadata": {},
   "outputs": [],
   "source": [
    "%matplotlib inline"
   ]
  },
  {
   "cell_type": "code",
   "execution_count": 12,
   "metadata": {},
   "outputs": [
    {
     "data": {
      "text/plain": [
       "(array([   38.,   195.,   746.,  1990.,  2799.,  2457.,  1310.,   380.,\n",
       "           77.,     8.]),\n",
       " array([ 0.46996198,  0.48007605,  0.49019011,  0.50030418,  0.51041825,\n",
       "         0.52053232,  0.53064639,  0.54076046,  0.55087452,  0.56098859,\n",
       "         0.57110266]),\n",
       " <a list of 10 Patch objects>)"
      ]
     },
     "execution_count": 12,
     "metadata": {},
     "output_type": "execute_result"
    },
    {
     "data": {
      "image/png": "[encoded data removed]",
      "text/plain": [
       "<Figure size 432x288 with 1 Axes>"
      ]
     },
     "metadata": {},
     "output_type": "display_data"
    }
   ],
   "source": [
    "plt.hist(leaver_proportions)"
   ]
  },
  {
   "cell_type": "markdown",
   "metadata": {},
   "source": [
    "Brexit ages"
   ]
  },
  {
   "cell_type": "code",
   "execution_count": 13,
   "metadata": {},
   "outputs": [],
   "source": [
    "import pandas as pd"
   ]
  },
  {
   "cell_type": "code",
   "execution_count": 14,
   "metadata": {},
   "outputs": [],
   "source": [
    "remain_leave = pd.read_csv('remain_leave.csv')\n",
    "leave_ages = remain_leave.loc[remain_leave['brexit'] == 2]['age']\n",
    "remain_ages = remain_leave.loc[remain_leave['brexit'] == 1]['age']"
   ]
  },
  {
   "cell_type": "code",
   "execution_count": 15,
   "metadata": {},
   "outputs": [
    {
     "data": {
      "text/plain": [
       "774     71\n",
       "775     60\n",
       "776     74\n",
       "777     61\n",
       "778     47\n",
       "779     56\n",
       "780     76\n",
       "781     35\n",
       "782     44\n",
       "783     38\n",
       "784     24\n",
       "785     53\n",
       "786     79\n",
       "787     64\n",
       "788     51\n",
       "789     31\n",
       "790     65\n",
       "791     28\n",
       "792     31\n",
       "793     21\n",
       "794     36\n",
       "795     49\n",
       "796     64\n",
       "797     49\n",
       "798     56\n",
       "799     69\n",
       "800     50\n",
       "801     51\n",
       "802     51\n",
       "803     60\n",
       "        ..\n",
       "1285    34\n",
       "1286    43\n",
       "1287    45\n",
       "1288    70\n",
       "1289    44\n",
       "1290    44\n",
       "1291    38\n",
       "1292    54\n",
       "1293    55\n",
       "1294    46\n",
       "1295    74\n",
       "1296    35\n",
       "1297    21\n",
       "1298    26\n",
       "1299    41\n",
       "1300    57\n",
       "1301    56\n",
       "1302    40\n",
       "1303    51\n",
       "1304    62\n",
       "1305    52\n",
       "1306    35\n",
       "1307    57\n",
       "1308    60\n",
       "1309    28\n",
       "1310    54\n",
       "1311    18\n",
       "1312    20\n",
       "1313    40\n",
       "1314    31\n",
       "Name: age, Length: 541, dtype: int64"
      ]
     },
     "execution_count": 15,
     "metadata": {},
     "output_type": "execute_result"
    }
   ],
   "source": [
    "leave_ages"
   ]
  },
  {
   "cell_type": "code",
   "execution_count": 16,
   "metadata": {},
   "outputs": [
    {
     "data": {
      "text/plain": [
       "1315"
      ]
     },
     "execution_count": 16,
     "metadata": {},
     "output_type": "execute_result"
    }
   ],
   "source": [
    "n_voters = len(remain_leave)\n",
    "n_voters"
   ]
  },
  {
   "cell_type": "code",
   "execution_count": 17,
   "metadata": {},
   "outputs": [],
   "source": [
    "ages = np.zeros(n_voters)"
   ]
  },
  {
   "cell_type": "code",
   "execution_count": 18,
   "metadata": {},
   "outputs": [
    {
     "data": {
      "text/plain": [
       "774"
      ]
     },
     "execution_count": 18,
     "metadata": {},
     "output_type": "execute_result"
    }
   ],
   "source": [
    "n_remain = len(remain_ages)\n",
    "n_remain"
   ]
  },
  {
   "cell_type": "code",
   "execution_count": 19,
   "metadata": {},
   "outputs": [],
   "source": [
    "ages[:n_remain] = remain_ages\n",
    "ages[n_remain:] = leave_ages"
   ]
  },
  {
   "cell_type": "code",
   "execution_count": 20,
   "metadata": {},
   "outputs": [
    {
     "data": {
      "text/plain": [
       "False"
      ]
     },
     "execution_count": 20,
     "metadata": {},
     "output_type": "execute_result"
    }
   ],
   "source": [
    "np.any(ages == 0)"
   ]
  },
  {
   "cell_type": "code",
   "execution_count": 21,
   "metadata": {},
   "outputs": [
    {
     "data": {
      "text/plain": [
       "-3.6998380833655773"
      ]
     },
     "execution_count": 21,
     "metadata": {},
     "output_type": "execute_result"
    }
   ],
   "source": [
    "observed_diff = np.mean(ages[:n_remain]) - np.mean(ages[n_remain:])\n",
    "observed_diff"
   ]
  },
  {
   "cell_type": "code",
   "execution_count": 22,
   "metadata": {},
   "outputs": [],
   "source": [
    "fake_ages = ages.copy()"
   ]
  },
  {
   "cell_type": "code",
   "execution_count": 23,
   "metadata": {},
   "outputs": [],
   "source": [
    "fake_differences = np.zeros(10000)\n",
    "for i in range(10000):\n",
    "    np.random.shuffle(fake_ages)\n",
    "    fake_diff = np.mean(fake_ages[:n_remain]) - np.mean(fake_ages[n_remain:])\n",
    "    fake_differences[i] = fake_diff"
   ]
  },
  {
   "cell_type": "code",
   "execution_count": 24,
   "metadata": {},
   "outputs": [
    {
     "data": {
      "text/plain": [
       "(array([    7.,    60.,   356.,  1172.,  2436.,  2882.,  1962.,   853.,\n",
       "          229.,    43.]),\n",
       " array([-4.02330119, -3.27399733, -2.52469348, -1.77538963, -1.02608577,\n",
       "        -0.27678192,  0.47252194,  1.22182579,  1.97112964,  2.7204335 ,\n",
       "         3.46973735]),\n",
       " <a list of 10 Patch objects>)"
      ]
     },
     "execution_count": 24,
     "metadata": {},
     "output_type": "execute_result"
    },
    {
     "data": {
      "image/png": "[encoded data removed]",
      "text/plain": [
       "<Figure size 432x288 with 1 Axes>"
      ]
     },
     "metadata": {},
     "output_type": "display_data"
    }
   ],
   "source": [
    "plt.hist(fake_differences)"
   ]
  },
  {
   "cell_type": "code",
   "execution_count": 25,
   "metadata": {},
   "outputs": [
    {
     "data": {
      "text/plain": [
       "array([False, False, False, False, False, False, False, False, False, False], dtype=bool)"
      ]
     },
     "execution_count": 25,
     "metadata": {},
     "output_type": "execute_result"
    }
   ],
   "source": [
    "less = fake_differences <= observed_diff\n",
    "less[:10]"
   ]
  },
  {
   "cell_type": "code",
   "execution_count": 26,
   "metadata": {},
   "outputs": [
    {
     "data": {
      "text/plain": [
       "0.00020000000000000001"
      ]
     },
     "execution_count": 26,
     "metadata": {},
     "output_type": "execute_result"
    }
   ],
   "source": [
    "sum(less) / 10000"
   ]
  },
  {
   "cell_type": "markdown",
   "metadata": {},
   "source": [
    "Curriculum\n",
    "\n",
    "Boolean vectorized comparisons\n",
    "2D arrays\n",
    "sum operating on True and False\n",
    "slicing arrays\n",
    "indexing arrays\n",
    "for loop, range\n",
    "\n",
    "Avoids if, functions, lists."
   ]
  }
 ],
 "metadata": {
  "kernelspec": {
   "display_name": "Python 3",
   "language": "python",
   "name": "python3"
  },
  "language_info": {
   "codemirror_mode": {
    "name": "ipython",
    "version": 3
   },
   "file_extension": ".py",
   "mimetype": "text/x-python",
   "name": "python",
   "nbconvert_exporter": "python",
   "pygments_lexer": "ipython3",
   "version": "3.6.5"
  }
 },
 "nbformat": 4,
 "nbformat_minor": 2
}
